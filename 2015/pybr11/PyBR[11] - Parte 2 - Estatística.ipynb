{
 "cells": [
  {
   "cell_type": "markdown",
   "metadata": {},
   "source": [
    "# Parte 2 - Estatística"
   ]
  },
  {
   "cell_type": "markdown",
   "metadata": {
    "collapsed": true
   },
   "source": [
    "## 2.1 Pacotes e funções necessários"
   ]
  },
  {
   "cell_type": "code",
   "execution_count": null,
   "metadata": {
    "collapsed": true
   },
   "outputs": [],
   "source": [
    "import scipy.stats as st  # estatística descritiva\n",
    "import matplotlib.pyplot as plt\n",
    "import numpy as np\n",
    "%matplotlib inline"
   ]
  },
  {
   "cell_type": "code",
   "execution_count": null,
   "metadata": {
    "collapsed": false
   },
   "outputs": [],
   "source": [
    "\"\"\"\n",
    "Vetor com as idades dos participantes do tutorial.\n",
    "\"\"\"\n",
    "\n",
    "idades = np.array([30, 24, 32, 18, 14, 40, 73, 78, 13, 33, 41, 18,\n",
    "                   48, 39, 24, 31, 40, 37, 22, 51, 25, 33, 4, 19, 18])\n",
    "\n",
    "# alguma info sobre os dados\n",
    "print('Mínimo: ', idades.min())\n",
    "print('Máximo: ', idades.max())\n",
    "print('Média: ', idades.mean())\n",
    "print('Mediana: ', np.median(idades))\n",
    "print('Desvio padrão: ', np.std(idades))\n",
    "\n",
    "\n",
    "# st.mode() retorna dois vetores: o primeiro com as\n",
    "# modas, o segundo com suas quantidades.\n",
    "moda, num_moda = st.mode(idades)\n",
    "\n",
    "print('Moda: ', moda[0], '; ', 'quantas vezes: ', num_moda[0])"
   ]
  },
  {
   "cell_type": "code",
   "execution_count": null,
   "metadata": {
    "collapsed": false
   },
   "outputs": [],
   "source": [
    "\"\"\"\n",
    "Usando os dados, plotaremos um box plot.\n",
    "\n",
    "Da esquerda para a direita: valores atípicos inferiores, limite inferior,\n",
    "1o quartil, 2o quartil, 3o quartil, limite superior e valores atípicos superiores.\n",
    "\n",
    "Mais exemplos na página do matplotlib:\n",
    "http://matplotlib.org/examples/pylab_examples/boxplot_demo.html\n",
    "\"\"\"\n",
    "\n",
    "plt.figure(figsize=(16,8))\n",
    "plot1 = plt.boxplot(idades, 0, 'rs', 0)"
   ]
  },
  {
   "cell_type": "markdown",
   "metadata": {},
   "source": [
    "## 2.2 Distribuições de probabilidade contínuas"
   ]
  },
  {
   "cell_type": "code",
   "execution_count": null,
   "metadata": {
    "collapsed": true
   },
   "outputs": [],
   "source": [
    "\"\"\"\n",
    "Funções para distribuições de probabilidade.\n",
    "\n",
    "Existem várias distribuições possíveis, discretas e contínuas.\n",
    "Veja a lista completa em:\n",
    "http://docs.scipy.org/doc/scipy/reference/stats.html\n",
    "\"\"\"\n",
    "\n",
    "from scipy.stats import norm, expon, chi2  # distribuições contínuas normal, exponencial e chi2 "
   ]
  },
  {
   "cell_type": "code",
   "execution_count": null,
   "metadata": {
    "collapsed": false
   },
   "outputs": [],
   "source": [
    "# Gerando variáveis aleatórias de acordo com as distribuições\n",
    "xale_norm = norm.rvs(size=150)\n",
    "xale_exp = expon.rvs(size=150)\n",
    "\n",
    "# df: parâmetro de forma em chi2.\n",
    "# Mais em:\n",
    "# http://docs.scipy.org/doc/scipy/reference/generated/scipy.stats.chi2.html\n",
    "xale_chi2 = chi2.rvs(df=5, size=150)"
   ]
  },
  {
   "cell_type": "code",
   "execution_count": null,
   "metadata": {
    "collapsed": false
   },
   "outputs": [],
   "source": [
    "\"\"\"\n",
    "* Histograma das variáveis aleatórias\n",
    "geradas pela normal.\n",
    "* Média e desvio padrão.\n",
    "* Função densidade de probabilidade.\n",
    "\"\"\"\n",
    "\n",
    "plot_norm = plt.hist(xale_norm, normed=True)  # normed=True normaliza o gráfico.\n",
    "norm_media, norm_dvpad = norm.fit(xale_norm)\n",
    "print('Média (normal): ', norm_media)\n",
    "print('Desvio padrão (normal): ', norm_dvpad)\n",
    "\n",
    "# criando um eixo_x para a FdP.\n",
    "eixo_x = np.linspace(-4, 4, 100)\n",
    "plot_norm = plt.plot(eixo_x, norm.pdf(eixo_x), 'r-')"
   ]
  },
  {
   "cell_type": "code",
   "execution_count": null,
   "metadata": {
    "collapsed": false
   },
   "outputs": [],
   "source": [
    "\"\"\"\n",
    "* Histograma das variáveis aleatórias\n",
    "geradas pela exponencial.\n",
    "* Média e desvio padrão.\n",
    "* Função densidade de probabilidade.\n",
    "\"\"\"\n",
    "\n",
    "plot_exp = plt.hist(xale_exp, normed=True)  # normed=True normaliza o gráfico.\n",
    "exp_media, exp_dvpad = expon.fit(xale_exp)\n",
    "print('Média (exponencial): ', exp_media)\n",
    "print('Desvio padrão (exponencial): ', exp_dvpad)\n",
    "\n",
    "# criando um eixo_x para a FdP.\n",
    "eixo_x = np.linspace(0, 8, 100)\n",
    "plot_norm = plt.plot(eixo_x, expon.pdf(eixo_x), 'r-')"
   ]
  },
  {
   "cell_type": "code",
   "execution_count": null,
   "metadata": {
    "collapsed": false
   },
   "outputs": [],
   "source": [
    "\"\"\"\n",
    "* Histograma das variáveis aleatórias\n",
    "geradas pela chi2.\n",
    "* Média e desvio padrão.\n",
    "* Função densidade de probabilidade.\n",
    "\"\"\"\n",
    "\n",
    "plot_chi2 = plt.hist(xale_chi2, normed=True)  # normed=True normaliza o gráfico.\n",
    "chi2_media, chi2_dvpad = norm.fit(xale_chi2)\n",
    "print('Média (chi2): ', chi2_media)\n",
    "print('Desvio padrão (chi2): ', chi2_dvpad)\n",
    "\n",
    "# criando um eixo_x para a FdP.\n",
    "eixo_x = np.linspace(-2, 25, 100)\n",
    "plot_chi2 = plt.plot(eixo_x, chi2.pdf(eixo_x, df=5), 'r-')"
   ]
  },
  {
   "cell_type": "markdown",
   "metadata": {},
   "source": [
    "## 2.3 Distribuições de probabilidade discretas"
   ]
  },
  {
   "cell_type": "code",
   "execution_count": null,
   "metadata": {
    "collapsed": true
   },
   "outputs": [],
   "source": [
    "from scipy.stats import randint, poisson, hypergeom  # distribuições discretas uniforme, Poisson e hipergeométrica"
   ]
  },
  {
   "cell_type": "code",
   "execution_count": null,
   "metadata": {
    "collapsed": false
   },
   "outputs": [],
   "source": [
    "\"\"\"\n",
    "* Gráfico de dispersão das variáveis aleatórias\n",
    "geradas pela distribuição uniforme.\n",
    "* Função massa de probabilidade.\n",
    "\"\"\"\n",
    "\n",
    "pto_min = -5; pto_max = 5\n",
    "eixo_x = np.arange(pto_min, pto_max, 0.25)  # gerando um eixo X.\n",
    "\n",
    "plt.figure(figsize=(14,6))\n",
    "stem_randint = plt.stem(eixo_x, randint(pto_min, pto_max).pmf(eixo_x))"
   ]
  },
  {
   "cell_type": "code",
   "execution_count": null,
   "metadata": {
    "collapsed": false
   },
   "outputs": [],
   "source": [
    "\"\"\"\n",
    "* Gráfico de dispersão das variáveis aleatórias\n",
    "geradas pela distribuição de Poisson.\n",
    "* Função massa de probabilidade.\n",
    "\"\"\"\n",
    "\n",
    "pto_min = 0; pto_max = 10\n",
    "eixo_x = np.arange(pto_min, pto_max)  # gerando um eixo X.\n",
    "\n",
    "# Poisson pede um valor lambda. Vamos variá-lo de 1 a 6:\n",
    "\n",
    "plt.figure(figsize=(14,6))\n",
    "for lmbda in range(6):\n",
    "    plot_poisson = plt.plot(eixo_x, poisson(lmbda+1).pmf(eixo_x), 'o-', label=r'$\\lambda$ = ' + str(lmbda+1))\n",
    "\n",
    "leg = plt.legend()"
   ]
  },
  {
   "cell_type": "code",
   "execution_count": null,
   "metadata": {
    "collapsed": false
   },
   "outputs": [],
   "source": [
    "\"\"\"\n",
    "* Gráfico de dispersão das variáveis aleatórias\n",
    "geradas pela distribuição hipergeométrica.\n",
    "* Função massa de probabilidade.\n",
    "\"\"\"\n",
    "\n",
    "pto_min = 0; pto_max = 10\n",
    "eixo_x = np.arange(pto_min, pto_max)  # gerando um eixo X.\n",
    "\n",
    "# hypergeom pede três parâmetros, que indicam o tamanho da coleção, \n",
    "# o tamanho do conjunto e a quantidade de pontos aleatórios da coleção.\n",
    "# Ela representa as possibilidades do número de objetos retirados\n",
    "# aleatoriamente da coleção estarem no conjunto.\n",
    "# Mais info:\n",
    "# http://docs.scipy.org/doc/scipy/reference/generated/scipy.stats.hypergeom.html\n",
    "\n",
    "[colecao, conjunto, num_ale] = [30, 12, 5]\n",
    "plt.figure(figsize=(14,6))\n",
    "stem_hiperg = plt.stem(eixo_x, hypergeom.pmf(eixo_x, colecao, conjunto, num_ale))\n",
    "stem_hiperg = plt.ylabel('Probabilidade')\n",
    "stem_hiperg = plt.xlabel('Número de objetos no conjunto')"
   ]
  },
  {
   "cell_type": "markdown",
   "metadata": {},
   "source": [
    "# Fim da Parte 2."
   ]
  },
  {
   "cell_type": "code",
   "execution_count": null,
   "metadata": {
    "collapsed": true
   },
   "outputs": [],
   "source": []
  }
 ],
 "metadata": {
  "kernelspec": {
   "display_name": "Python 3",
   "language": "python",
   "name": "python3"
  },
  "language_info": {
   "codemirror_mode": {
    "name": "ipython",
    "version": 3
   },
   "file_extension": ".py",
   "mimetype": "text/x-python",
   "name": "python",
   "nbconvert_exporter": "python",
   "pygments_lexer": "ipython3",
   "version": "3.4.3"
  }
 },
 "nbformat": 4,
 "nbformat_minor": 0
}
