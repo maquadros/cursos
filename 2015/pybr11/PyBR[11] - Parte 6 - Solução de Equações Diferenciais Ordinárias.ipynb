{
 "cells": [
  {
   "cell_type": "markdown",
   "metadata": {},
   "source": [
    "# Parte 6 - Solução de EDOs"
   ]
  },
  {
   "cell_type": "markdown",
   "metadata": {},
   "source": [
    "## 6.1 Pacotes necessários"
   ]
  },
  {
   "cell_type": "code",
   "execution_count": null,
   "metadata": {
    "collapsed": true
   },
   "outputs": [],
   "source": [
    "from scipy import integrate  # função integrate.odeint()\n",
    "import matplotlib.pyplot as plt\n",
    "import numpy as np\n",
    "% matplotlib inline"
   ]
  },
  {
   "cell_type": "markdown",
   "metadata": {},
   "source": [
    "## 6.2 scipy.integrate.odeint()"
   ]
  },
  {
   "cell_type": "code",
   "execution_count": null,
   "metadata": {
    "collapsed": true
   },
   "outputs": [],
   "source": [
    "# primeiro, vamos definir uma equação diferencial:\n",
    "def dy_dx(y, x):\n",
    "\n",
    "    y = 5 * x - 3\n",
    "    return y"
   ]
  },
  {
   "cell_type": "code",
   "execution_count": null,
   "metadata": {
    "collapsed": false
   },
   "outputs": [],
   "source": [
    "\"\"\"\n",
    "Estabelecemos uma condição inicial e o intervalo\n",
    "no qual resolveremos a solução.\n",
    "\n",
    "Mais informações na documentação do scipy:\n",
    "http://docs.scipy.org/doc/scipy-0.16.0/reference/generated/scipy.integrate.odeint.html\n",
    "\"\"\"\n",
    "\n",
    "# a condição inicial.\n",
    "y_0 = 1/2\n",
    "\n",
    "# y é calculada nos pontos de x, de acordo com a condição y_0.\n",
    "x = np.linspace(0, 5, 100)\n",
    "y = integrate.odeint(dy_dx, y_0 , x)\n",
    "\n",
    "# o gráfico da solução:\n",
    "plt.figure(figsize=(10,6))\n",
    "plot1 = plt.plot(x, y, label='y')\n",
    "leg = plt.legend()"
   ]
  },
  {
   "cell_type": "code",
   "execution_count": null,
   "metadata": {
    "collapsed": true
   },
   "outputs": [],
   "source": [
    "# mais uma equação diferencial.\n",
    "def dv_dt(v, t):\n",
    "\n",
    "    v = 3 - 2 * np.exp(np.sin(t))\n",
    "    return v"
   ]
  },
  {
   "cell_type": "code",
   "execution_count": null,
   "metadata": {
    "collapsed": false
   },
   "outputs": [],
   "source": [
    "# informando a condição inicial.\n",
    "v_0 = 0.25\n",
    "\n",
    "# calculando a solução.\n",
    "t = np.linspace(0, 10, 100)\n",
    "v = integrate.odeint(dv_dt, v_0 , t)"
   ]
  },
  {
   "cell_type": "code",
   "execution_count": null,
   "metadata": {
    "collapsed": false
   },
   "outputs": [],
   "source": [
    "plt.figure(figsize=(10,6))\n",
    "plot2 = plt.plot(v, t, label='v')\n",
    "leg = plt.legend()"
   ]
  },
  {
   "cell_type": "code",
   "execution_count": null,
   "metadata": {
    "collapsed": false
   },
   "outputs": [],
   "source": [
    "\"\"\"\n",
    "Saideira! Exemplo de um brother:\n",
    "\n",
    "Código com problemas no Stack Overflow.\n",
    "http://stackoverflow.com/questions/16001341/having-trouble-while-using-scipy-integrate-odeint-with-python\n",
    "\"\"\"\n",
    "\n",
    "# equação diferencial.\n",
    "def dh_dx(h, x):\n",
    "    \n",
    "    eta = 1.24e-9/2\n",
    "    f = 1.05e-8 * eta * x ** (1.5) * np.exp(13.6/x)\n",
    "    h = (np.sqrt(1.+4*f)-1)/2./f\n",
    "    return h\n",
    "\n",
    "# condição inicial.\n",
    "h_0 = 0\n",
    "\n",
    "# eixo X.\n",
    "x = np.linspace(0.1, 1, 500)\n",
    "\n",
    "# calculando a solução.\n",
    "h = integrate.odeint(dh_dx, h_0, x)\n",
    "\n",
    "# gráficos.\n",
    "plt.figure(figsize=(10,6))\n",
    "plot3 = plt.plot(x, h, label = 'h')\n",
    "leg = plt.legend()"
   ]
  },
  {
   "cell_type": "markdown",
   "metadata": {},
   "source": [
    "# Fim da Parte 6.\n",
    "# Obrigado!\n",
    "# Visite: http://www.programandociencia.com"
   ]
  },
  {
   "cell_type": "code",
   "execution_count": null,
   "metadata": {
    "collapsed": true
   },
   "outputs": [],
   "source": []
  }
 ],
 "metadata": {
  "kernelspec": {
   "display_name": "Python 3",
   "language": "python",
   "name": "python3"
  },
  "language_info": {
   "codemirror_mode": {
    "name": "ipython",
    "version": 3
   },
   "file_extension": ".py",
   "mimetype": "text/x-python",
   "name": "python",
   "nbconvert_exporter": "python",
   "pygments_lexer": "ipython3",
   "version": "3.4.3"
  }
 },
 "nbformat": 4,
 "nbformat_minor": 0
}
