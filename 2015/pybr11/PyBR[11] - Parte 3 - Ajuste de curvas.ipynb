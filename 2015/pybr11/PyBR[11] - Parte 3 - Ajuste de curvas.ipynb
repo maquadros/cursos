{
 "cells": [
  {
   "cell_type": "markdown",
   "metadata": {},
   "source": [
    "# Parte 3 - Ajuste de curvas"
   ]
  },
  {
   "cell_type": "markdown",
   "metadata": {},
   "source": [
    "## 3.1 Pacotes e funções necessários"
   ]
  },
  {
   "cell_type": "code",
   "execution_count": null,
   "metadata": {
    "collapsed": true
   },
   "outputs": [],
   "source": [
    "import matplotlib.pyplot as plt\n",
    "import numpy as np\n",
    "%matplotlib inline"
   ]
  },
  {
   "cell_type": "code",
   "execution_count": null,
   "metadata": {
    "collapsed": false
   },
   "outputs": [],
   "source": [
    "\"\"\"\n",
    "Vamos começar definindo um eixo X e uma função Y(X).\n",
    "Também adicionaremos algum ruído a Y.\n",
    "\"\"\"\n",
    "eixo_x = np.linspace(-7, 7, 200)\n",
    "eixo_y = 2 * eixo_x + 3\n",
    "\n",
    "# ruido:\n",
    "ruido = 18 * np.random.randn(np.shape(eixo_y)[0]) + 4  # sigma * np.random.randn + mu = N(mu, sigma ** 2)\n",
    "ruido_y = eixo_y + ruido\n",
    "\n",
    "# Mais sobre randn:\n",
    "# http://docs.scipy.org/doc/numpy/reference/generated/numpy.random.randn.html"
   ]
  },
  {
   "cell_type": "markdown",
   "metadata": {},
   "source": [
    "## 3.2 Usando as funções polyfit e poly1d"
   ]
  },
  {
   "cell_type": "code",
   "execution_count": null,
   "metadata": {
    "collapsed": false
   },
   "outputs": [],
   "source": [
    "\"\"\"\n",
    "Usaremos primeiro a função polyfit, que aplica um\n",
    "ajuste polinomial por mínimos quadrados e retorna\n",
    "os coeficientes do polinômio.\n",
    "\n",
    "Mais info em:\n",
    "http://docs.scipy.org/doc/numpy/reference/generated/numpy.polyfit.html\n",
    "\"\"\"\n",
    "\n",
    "# Vamos ajustar primeiro um polinômio de grau 1.\n",
    "coef1 = np.polyfit(eixo_x, ruido_y, 1)  # o número-argumento é a ordem do polinômio\n",
    "print(\"Coeficientes pol grau 1: \", coef1)\n",
    "\n",
    "\"\"\"\n",
    "Depois, usamos poly1d para criar uma função\n",
    "a partir dos coeficientes gerados por polyfit.\n",
    "\"\"\"\n",
    "\n",
    "plt.figure(figsize=(14,8))\n",
    "func1 = np.poly1d(coef1)\n",
    "poli = plt.plot(eixo_x, ruido_y, '.')  # pontos de amostra.\n",
    "poli = plt.plot(eixo_x, func1(eixo_x), label='poli_1')\n",
    "\n",
    "# Agora, um polinômio de grau 2:\n",
    "coef2 = np.polyfit(eixo_x, ruido_y, 2)  # o número-argumento é a ordem do polinômio\n",
    "print(\"Coeficientes pol grau 2: \", coef2)\n",
    "func2 = np.poly1d(coef2)\n",
    "poli = plt.plot(eixo_x, func2(eixo_x), label='poli_2')\n",
    "\n",
    "# Por fim, um polinômio de grau 3:\n",
    "coef3 = np.polyfit(eixo_x, ruido_y, 3)  # o número-argumento é a ordem do polinômio\n",
    "print(\"Coeficientes pol grau 3: \", coef3)\n",
    "func3 = np.poly1d(coef3)\n",
    "poli = plt.plot(eixo_x, func3(eixo_x), label='poli_3')\n",
    "poli = plt.axis([-7, 7, -15, 15])\n",
    "\n",
    "leg = plt.legend()"
   ]
  },
  {
   "cell_type": "markdown",
   "metadata": {},
   "source": [
    "## 3.3 Usando a função scipy.optimize.curve_fit"
   ]
  },
  {
   "cell_type": "code",
   "execution_count": null,
   "metadata": {
    "collapsed": true
   },
   "outputs": [],
   "source": [
    "from scipy import optimize  # função curve_fit"
   ]
  },
  {
   "cell_type": "code",
   "execution_count": null,
   "metadata": {
    "collapsed": false
   },
   "outputs": [],
   "source": [
    "\"\"\"\n",
    "A função curve_fit usa o método não-linear de mínimos\n",
    "quadrados para ajustar uma função.\n",
    "\n",
    "O exemplo abaixo foi extraído da documentação de curve_fit:\n",
    "http://docs.scipy.org/doc/scipy-0.15.1/reference/generated/scipy.optimize.curve_fit.html\n",
    "\"\"\"\n",
    "\n",
    "# Definindo a função utilizada no ajuste:\n",
    "def func(x, a, b, c):\n",
    "    return a * np.exp(-b * x) + c\n",
    "\n",
    "# Agora, os eixos X e Y:\n",
    "eixo_x = np.linspace(0, 4, 50)\n",
    "eixo_y = func(eixo_x, 2.5, 1.3, 0.5)\n",
    "\n",
    "# Adicionando o ruído:\n",
    "ruido_y = eixo_y + 0.2 * np.random.normal(size=len(eixo_x))\n"
   ]
  },
  {
   "cell_type": "code",
   "execution_count": null,
   "metadata": {
    "collapsed": false
   },
   "outputs": [],
   "source": [
    "\"\"\"\n",
    "Aplicando curve_fit.\n",
    "* Os parâmetros são a função a ser ajustada e os eixos X\n",
    "e Y.\n",
    "* curve_fit retorna os valores ótimos para os parâmetros\n",
    "e a variância da estimação.\n",
    "\"\"\"\n",
    "\n",
    "p_estim, p_covar = optimize.curve_fit(func, eixo_x, ruido_y)\n",
    "cfit_plot = plt.plot(eixo_x, ruido_y, 'go-')\n",
    "cfit_plot = plt.plot(eixo_x, func(eixo_x, *p_estim), 'k--')"
   ]
  },
  {
   "cell_type": "markdown",
   "metadata": {
    "collapsed": true
   },
   "source": [
    "# Fim da Parte 3."
   ]
  },
  {
   "cell_type": "code",
   "execution_count": null,
   "metadata": {
    "collapsed": true
   },
   "outputs": [],
   "source": []
  }
 ],
 "metadata": {
  "kernelspec": {
   "display_name": "Python 3",
   "language": "python",
   "name": "python3"
  },
  "language_info": {
   "codemirror_mode": {
    "name": "ipython",
    "version": 3
   },
   "file_extension": ".py",
   "mimetype": "text/x-python",
   "name": "python",
   "nbconvert_exporter": "python",
   "pygments_lexer": "ipython3",
   "version": "3.4.3"
  }
 },
 "nbformat": 4,
 "nbformat_minor": 0
}
