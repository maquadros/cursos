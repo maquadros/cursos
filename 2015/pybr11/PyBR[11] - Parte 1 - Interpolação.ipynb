{
 "cells": [
  {
   "cell_type": "markdown",
   "metadata": {},
   "source": [
    "# Parte 1 - Interpolação"
   ]
  },
  {
   "cell_type": "markdown",
   "metadata": {},
   "source": [
    "## 1.1 Pacotes e funções necessários"
   ]
  },
  {
   "cell_type": "code",
   "execution_count": null,
   "metadata": {
    "collapsed": true
   },
   "outputs": [],
   "source": [
    "from scipy.interpolate import interp1d  # funções lineares e splines\n",
    "from scipy.interpolate.rbf import Rbf  # funções de base radial\n",
    "\n",
    "import matplotlib.pyplot as plt\n",
    "import numpy as np\n",
    "%matplotlib inline"
   ]
  },
  {
   "cell_type": "markdown",
   "metadata": {},
   "source": [
    "## 1.2 Obtendo e estudando os dados"
   ]
  },
  {
   "cell_type": "code",
   "execution_count": null,
   "metadata": {
    "collapsed": false
   },
   "outputs": [],
   "source": [
    "\"\"\"\n",
    "Vamos baixar a tabela .csv na qual trabalharemos.\n",
    "Endereço dos dados: http://goo.gl/h94Mqk\n",
    "\"\"\"\n",
    "\n",
    "data_petro = np.genfromtxt('table.csv', delimiter=',', dtype=None)"
   ]
  },
  {
   "cell_type": "code",
   "execution_count": null,
   "metadata": {
    "collapsed": false
   },
   "outputs": [],
   "source": [
    "# Vendo o tamanho dos dados.\n",
    "print('A tabela tem {0} linhas e {1} colunas.'.format(np.shape(data_petro)[0],\n",
    "                                                       np.shape(data_petro)[1]))"
   ]
  },
  {
   "cell_type": "code",
   "execution_count": null,
   "metadata": {
    "collapsed": false
   },
   "outputs": [],
   "source": [
    "# Vendo o cabeçalho.\n",
    "data_petro[0:4,0:]"
   ]
  },
  {
   "cell_type": "code",
   "execution_count": null,
   "metadata": {
    "collapsed": false
   },
   "outputs": [],
   "source": [
    "\"\"\"\n",
    "Tanto a primeira linha quanto a primeira coluna representam os rótulos dos dados.\n",
    "Para obter os dados, começamos da segunda linha/coluna:\n",
    "\"\"\"\n",
    "\n",
    "data_petro = data_petro[1:,1:]"
   ]
  },
  {
   "cell_type": "code",
   "execution_count": null,
   "metadata": {
    "collapsed": false
   },
   "outputs": [],
   "source": [
    "data_petro"
   ]
  },
  {
   "cell_type": "code",
   "execution_count": null,
   "metadata": {
    "collapsed": false
   },
   "outputs": [],
   "source": [
    "\"\"\"\n",
    "Dados decrescentes! Vamos invertê-los.\n",
    "Usamos np.flipud(data_petro) ou data_petro[::-1].\n",
    "\"\"\"\n",
    "\n",
    "data_petro = np.flipud(data_petro)\n",
    "data_petro"
   ]
  },
  {
   "cell_type": "code",
   "execution_count": null,
   "metadata": {
    "collapsed": false
   },
   "outputs": [],
   "source": [
    "\"\"\"\n",
    "Usaremos a coluna 'Adj Close', o preço de fechamento ajustado.\n",
    "\"\"\"\n",
    "\n",
    "data_petro[:, 5:]"
   ]
  },
  {
   "cell_type": "code",
   "execution_count": null,
   "metadata": {
    "collapsed": false,
    "scrolled": true
   },
   "outputs": [],
   "source": [
    "# Separando 'Adj Close' e visualizando os dados:\n",
    "adj_close = np.array(data_petro[:, 5:].flatten(), dtype=float)  # \"Achatar\" o vetor para 1 dimensão\n",
    "plt.figure(figsize=(16, 8))  # aumentando o tamanho da figura.\n",
    "plt.plot(adj_close, 'ko')\n",
    "plt.xlabel('Dias')\n",
    "plt.ylabel('Preço de fechamento ajustado')"
   ]
  },
  {
   "cell_type": "markdown",
   "metadata": {},
   "source": [
    "## 1.3 Interpolando: função scipy.interpolate.interp1d"
   ]
  },
  {
   "cell_type": "code",
   "execution_count": null,
   "metadata": {
    "collapsed": false
   },
   "outputs": [],
   "source": [
    "# Determinando o tamanho do vetor adj_close.\n",
    "fim = np.shape(adj_close)[0]\n",
    "fim"
   ]
  },
  {
   "cell_type": "code",
   "execution_count": null,
   "metadata": {
    "collapsed": false
   },
   "outputs": [],
   "source": [
    "\"\"\"\n",
    "A função interp1d gera uma função.\n",
    "O argumento 'kind' especifica o tipo de interpolação utilizada. O padrão é 'linear'.\n",
    "* Argumentos válidos: 'linear', 'nearest', 'zero', 'slinear', 'quadratic', 'cubic'. \n",
    "* Os argumentos 'slinear', 'quadratic' e 'cubic' se referem à interpolação com uma spline\n",
    "de primeira, segunda ou terceira ordem.\n",
    "* Caso seja utilizado um inteiro, ele expressará a ordem da spline que será utilizada.\n",
    "\n",
    "* Para mais informações, veja a documentação do SciPy:\n",
    "http://docs.scipy.org/doc/scipy-0.14.0/reference/generated/scipy.interpolate.interp1d.html\n",
    "\"\"\"\n",
    "\n",
    "adj_x = np.linspace(0, fim, fim, endpoint=True)  # criando eixo X com dias.\n",
    "interp_adj = interp1d(adj_x, adj_close)"
   ]
  },
  {
   "cell_type": "code",
   "execution_count": null,
   "metadata": {
    "collapsed": false
   },
   "outputs": [],
   "source": [
    "intp_adjclose = interp_adj(adj_x)\n",
    "plt.figure(figsize=(16, 8))  # aumentando o tamanho da figura.\n",
    "plot1 = plt.plot(adj_x, adj_close, 'ko', label='orig')\n",
    "plot1 = plt.plot(adj_x, intp_adjclose, '--', label='intp')\n",
    "\n",
    "leg = plt.legend()"
   ]
  },
  {
   "cell_type": "code",
   "execution_count": null,
   "metadata": {
    "collapsed": false,
    "scrolled": false
   },
   "outputs": [],
   "source": [
    "# Tomando os primeiros 10 dias. Criando também um eixo X\n",
    "adj_peda = adj_close[:10]\n",
    "eixo_x = np.linspace(0, 10)\n",
    "\n",
    "# Interpolando o resultado entre os 10 dias.\n",
    "intp_peda = interp_adj(eixo_x)\n",
    "\n",
    "# Plotando o resultado.\n",
    "plt.figure(figsize=(16, 8))\n",
    "plot2 = plt.plot(adj_peda, 'ko', markersize=12, label='orig')  # os pontos originais.\n",
    "plot2 = plt.plot(eixo_x, intp_peda, '-', label='lin')\n",
    "\n",
    "# Testando também outras formas...\n",
    "# kind='nearest':\n",
    "near_adj = interp1d(adj_x, adj_close, kind='nearest')\n",
    "near_peda = near_adj(eixo_x)\n",
    "plot2 = plt.plot(eixo_x, near_peda, '-', label='near')\n",
    "\n",
    "\"\"\"\n",
    "Para testar em casa.\n",
    "kind='cubic':\n",
    "\"\"\"\n",
    "\n",
    "# cub_adj = interp1d(adj_x, adj_close, kind='cubic')\n",
    "# cub_peda = cub_adj(eixo_x)\n",
    "# plot2 = plt.plot(eixo_x, cub_peda, '-', label='cub')\n",
    "\n",
    "leg = plt.legend()"
   ]
  },
  {
   "cell_type": "markdown",
   "metadata": {},
   "source": [
    "## 1.4 Interpolando: função scipy.interpolate.Rbf"
   ]
  },
  {
   "cell_type": "code",
   "execution_count": null,
   "metadata": {
    "collapsed": false
   },
   "outputs": [],
   "source": [
    "\"\"\"\n",
    "Da mesma forma que interp1d, a função Rbf gera uma função.\n",
    "O argumento 'function' especifica o tipo de interpolação utilizada. O padrão é 'multiquadric'.\n",
    "* Argumentos válidos: 'multiquadric', 'inverse', 'gaussian', 'linear', 'cubic', 'quintic', 'thin_plate'. \n",
    "* As funções-base são:\n",
    " - 'multiquadric': sqrt((r/self.epsilon)**2 + 1)\n",
    " - 'inverse': 1.0/sqrt((r/self.epsilon)**2 + 1)\n",
    " - 'gaussian': exp(-(r/self.epsilon)**2)\n",
    " - 'linear': r\n",
    " - 'cubic': r**3\n",
    " - 'quintic': r**5\n",
    " - 'thin_plate': r**2 * log(r)\n",
    "\n",
    "* Para mais informações, veja a documentação do SciPy:\n",
    "http://docs.scipy.org/doc/scipy-0.16.0/reference/generated/scipy.interpolate.Rbf.html\n",
    "\"\"\"\n",
    "\n",
    "adj_x = np.linspace(0, fim, fim, endpoint=True)  # Criando eixo X com dias.\n",
    "rbf_adj = Rbf(adj_x, adj_close)"
   ]
  },
  {
   "cell_type": "code",
   "execution_count": null,
   "metadata": {
    "collapsed": false
   },
   "outputs": [],
   "source": [
    "# Tomando os primeiros 60 dias. Criando também um eixo X\n",
    "adj_bimes = adj_close[:60]  \n",
    "eixo_x = np.linspace(0, 60, 500)\n",
    "\n",
    "# Interpolando o resultado entre os 10 dias.\n",
    "plt.figure(figsize=(16, 8))\n",
    "\n",
    "# Plotando os pontos originais.\n",
    "plot3 = plt.plot(adj_bimes, 'ko', markersize=12)  # os pontos originais.\n",
    "\n",
    "# Interpolando.\n",
    "# function = 'linear':\n",
    "rbf_adj = Rbf(adj_x, adj_close, function='linear')\n",
    "lin_bimes = rbf_adj(eixo_x)\n",
    "plot3 = plt.plot(eixo_x, lin_bimes, '-', label='lin')\n",
    "\n",
    "# function = 'cubic':\n",
    "rbf_adj = Rbf(adj_x, adj_close, function='cubic')\n",
    "cub_bimes = rbf_adj(eixo_x)\n",
    "plot3 = plt.plot(eixo_x, cub_bimes, '-', label='cubic')\n",
    "\n",
    "\"\"\"\n",
    "Para testar em casa.\n",
    "function = 'gaussian':\n",
    "\"\"\"\n",
    "\n",
    "#rbf_adj = Rbf(adj_x, adj_close, function='gaussian')\n",
    "#gauss_bimes = rbf_adj(eixo_x)\n",
    "#plot3 = plt.plot(eixo_x, gauss_bimes, 'o', label='gauss')\n",
    "\n",
    "leg = plt.legend()"
   ]
  },
  {
   "cell_type": "markdown",
   "metadata": {},
   "source": [
    "# Fim da Parte 1."
   ]
  },
  {
   "cell_type": "code",
   "execution_count": null,
   "metadata": {
    "collapsed": true
   },
   "outputs": [],
   "source": []
  }
 ],
 "metadata": {
  "kernelspec": {
   "display_name": "Python 3",
   "language": "python",
   "name": "python3"
  },
  "language_info": {
   "codemirror_mode": {
    "name": "ipython",
    "version": 3
   },
   "file_extension": ".py",
   "mimetype": "text/x-python",
   "name": "python",
   "nbconvert_exporter": "python",
   "pygments_lexer": "ipython3",
   "version": "3.4.3"
  }
 },
 "nbformat": 4,
 "nbformat_minor": 0
}
