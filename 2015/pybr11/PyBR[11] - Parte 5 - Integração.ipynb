{
 "cells": [
  {
   "cell_type": "markdown",
   "metadata": {},
   "source": [
    "# Parte 5 - Integração"
   ]
  },
  {
   "cell_type": "markdown",
   "metadata": {},
   "source": [
    "## 5.1 Pacotes necessários"
   ]
  },
  {
   "cell_type": "code",
   "execution_count": null,
   "metadata": {
    "collapsed": true
   },
   "outputs": [],
   "source": [
    "import numpy as np\n",
    "import matplotlib.pyplot as plt\n",
    "import sympy as sm  # sympy: cálculos simbólicos \n",
    "%matplotlib inline"
   ]
  },
  {
   "cell_type": "markdown",
   "metadata": {},
   "source": [
    "## 5.2 Integração simbólica"
   ]
  },
  {
   "cell_type": "code",
   "execution_count": null,
   "metadata": {
    "collapsed": false
   },
   "outputs": [],
   "source": [
    "\"\"\"\n",
    "Para integração simbólica usaremos o sympy.\n",
    "Antes, vamos atualizar o pacote.\n",
    "\n",
    "* No Anaconda:\n",
    "conda update sympy\n",
    "\n",
    "* Com pip:\n",
    "pip install sympy --upgrade\n",
    "\n",
    "Depois baixaremos os pacotinhos para embelezar\n",
    "os símbolos resultantes.\n",
    "\"\"\"\n",
    "\n",
    "from IPython.external.mathjax import install_mathjax\n",
    "from sympy import init_printing\n",
    "\n",
    "install_mathjax()\n",
    "init_printing()"
   ]
  },
  {
   "cell_type": "code",
   "execution_count": null,
   "metadata": {
    "collapsed": false
   },
   "outputs": [],
   "source": [
    "# antes de trabalhar com o sympy,\n",
    "# precisamos definir os símbolos que\n",
    "# usaremos!\n",
    "x, y, z, theta, gamma = sm.symbols('x y z theta gamma')"
   ]
  },
  {
   "cell_type": "code",
   "execution_count": null,
   "metadata": {
    "collapsed": false
   },
   "outputs": [],
   "source": [
    "# definindo uma função:\n",
    "f = sm.sqrt(x ** 3)\n",
    "f"
   ]
  },
  {
   "cell_type": "code",
   "execution_count": null,
   "metadata": {
    "collapsed": false
   },
   "outputs": [],
   "source": [
    "\"\"\"\n",
    "Para integrar uma função com o sympy\n",
    "usamos sm.integrate. Com os argumentos\n",
    "abaixo, essa função retorna uma integral\n",
    "indefinida ou definida, de acordo com os \n",
    "parâmetros fornecidos.\n",
    "\n",
    "Argumentos:\n",
    "* a função a ser integrada.\n",
    "* a variável de integração.\n",
    "* os pontos de início e de fim do intervalo.\n",
    "\"\"\"\n",
    "\n",
    "# tomando a integral indefinida de f: \n",
    "sm.integrate(f, x)"
   ]
  },
  {
   "cell_type": "code",
   "execution_count": null,
   "metadata": {
    "collapsed": false
   },
   "outputs": [],
   "source": [
    "# agora, a integral de f entre zero\n",
    "# e 1:\n",
    "sm.integrate(f, (x, 0, 1))"
   ]
  },
  {
   "cell_type": "code",
   "execution_count": null,
   "metadata": {
    "collapsed": false
   },
   "outputs": [],
   "source": [
    "# mais uma função:\n",
    "g = -x ** 3 + 4 * x + 1"
   ]
  },
  {
   "cell_type": "code",
   "execution_count": null,
   "metadata": {
    "collapsed": false
   },
   "outputs": [],
   "source": [
    "# sua integral indefinida:\n",
    "sm.integrate(g, x)"
   ]
  },
  {
   "cell_type": "code",
   "execution_count": null,
   "metadata": {
    "collapsed": false
   },
   "outputs": [],
   "source": [
    "# agora, a integral entre -10 e 10:\n",
    "sm.integrate(g, (x, -10, 10))"
   ]
  },
  {
   "cell_type": "markdown",
   "metadata": {},
   "source": [
    "## 5.3 Integração numérica"
   ]
  },
  {
   "cell_type": "code",
   "execution_count": null,
   "metadata": {
    "collapsed": true
   },
   "outputs": [],
   "source": [
    "\"\"\"\n",
    "Para integração numérica usaremos\n",
    "scipy.integrate.\n",
    "Há funções para integrais simples, duplas, ...\n",
    "Também há diferentes funções para cálculo de\n",
    "outras integrais.\n",
    "\n",
    "Usaremos a função quad, que calcula uma integral\n",
    "definida. Consulte as outras funções na ajuda\n",
    "documentação do scipy:\n",
    "http://docs.scipy.org/doc/scipy/reference/integrate.html\n",
    "\"\"\"\n",
    "\n",
    "from scipy import integrate"
   ]
  },
  {
   "cell_type": "code",
   "execution_count": null,
   "metadata": {
    "collapsed": true
   },
   "outputs": [],
   "source": [
    "# definindo uma função a ser integrada.\n",
    "\n",
    "def f(x):\n",
    "    \"\"\"\n",
    "    Função inspirada na camelback. Requer X.\n",
    "    \"\"\"\n",
    "\n",
    "    y = (4 - 2.1 * x ** 2 + (x ** 4 / 3)) * x ** 2 + x\n",
    "    return y"
   ]
  },
  {
   "cell_type": "code",
   "execution_count": null,
   "metadata": {
    "collapsed": false
   },
   "outputs": [],
   "source": [
    "# definindo o intervalo de integração.\n",
    "interf = [-1, 1.3]\n",
    "\n",
    "\"\"\"\n",
    "quad recebe a função a ser integrada e\n",
    "o intervalo de integração como parâmetros.\n",
    "Ela retorna o valor da integral e o \n",
    "erro máximo estimado.\n",
    "\n",
    "Mais em:\n",
    "http://docs.scipy.org/doc/scipy/reference/generated/scipy.integrate.quad.html\n",
    "\"\"\"\n",
    "\n",
    "val_integf, errof = integrate.quad(f, *interf)\n",
    "print('O valor da integral é: ', val_integf, 'u.a.')"
   ]
  },
  {
   "cell_type": "code",
   "execution_count": null,
   "metadata": {
    "collapsed": false
   },
   "outputs": [],
   "source": [
    "# vejamos o gráfico e o intervalo de integração.\n",
    "\n",
    "# o eixo X\n",
    "xf = np.linspace(-1.5, 1.75)\n",
    "interf_cheio = np.linspace(*interf)\n",
    "\n",
    "# o gráfico e o intervalo de integração\n",
    "plt.figure(figsize=(14,6))\n",
    "plot1 = plt.plot(xf, f(xf), 'k', label='f(x)')\n",
    "plot1 = plt.fill_between(interf_cheio, f(interf_cheio), color='orchid', label=r'$\\int_{-1}^{1,3}\\,$f(x)')\n",
    "plot1 = plt.axis([-2, 2, 0, 6])\n",
    "leg = plt.legend()"
   ]
  },
  {
   "cell_type": "code",
   "execution_count": null,
   "metadata": {
    "collapsed": true
   },
   "outputs": [],
   "source": [
    "# vamos testar outra função.\n",
    "\n",
    "def g(x):\n",
    "    y = np.exp(np.sin(x))\n",
    "    return y"
   ]
  },
  {
   "cell_type": "code",
   "execution_count": null,
   "metadata": {
    "collapsed": false
   },
   "outputs": [],
   "source": [
    "# definindo o intervalo de integração.\n",
    "interg = [0, np.pi]\n",
    "\n",
    "# integrando.\n",
    "val_integg, errog = integrate.quad(g, *interg)\n",
    "print('O valor da integral é: ', val_integg, 'u.a.')"
   ]
  },
  {
   "cell_type": "code",
   "execution_count": null,
   "metadata": {
    "collapsed": false
   },
   "outputs": [],
   "source": [
    "# de novo, o gráfico e o intervalo de integração.\n",
    "\n",
    "# o eixo X\n",
    "xg = np.linspace(-0.5, 4.5)\n",
    "interg_cheio = np.linspace(*interg)\n",
    "\n",
    "# o gráfico\n",
    "plt.figure(figsize=(14,6))\n",
    "plot1 = plt.plot(xg, g(xg), 'k', label='g(x)')\n",
    "plot1 = plt.fill_between(interg_cheio, g(interg_cheio), color='orchid', label=r'$\\int_{0}^{\\pi}\\,$g(x)')\n",
    "#plot1 = plt.axis([-2, 2, 0, 6])\n",
    "leg = plt.legend()"
   ]
  },
  {
   "cell_type": "markdown",
   "metadata": {},
   "source": [
    "# Fim da Parte 5."
   ]
  },
  {
   "cell_type": "code",
   "execution_count": null,
   "metadata": {
    "collapsed": true
   },
   "outputs": [],
   "source": []
  }
 ],
 "metadata": {
  "kernelspec": {
   "display_name": "Python 3",
   "language": "python",
   "name": "python3"
  },
  "language_info": {
   "codemirror_mode": {
    "name": "ipython",
    "version": 3
   },
   "file_extension": ".py",
   "mimetype": "text/x-python",
   "name": "python",
   "nbconvert_exporter": "python",
   "pygments_lexer": "ipython3",
   "version": "3.4.3"
  }
 },
 "nbformat": 4,
 "nbformat_minor": 0
}
