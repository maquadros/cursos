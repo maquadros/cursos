{
 "cells": [
  {
   "cell_type": "markdown",
   "metadata": {},
   "source": [
    "# Parte 4 - Minimização"
   ]
  },
  {
   "cell_type": "markdown",
   "metadata": {},
   "source": [
    "## 4.1 Pacotes necessários"
   ]
  },
  {
   "cell_type": "code",
   "execution_count": null,
   "metadata": {
    "collapsed": false
   },
   "outputs": [],
   "source": [
    "from matplotlib import cm  # mapas de cores\n",
    "from mpl_toolkits.mplot3d import Axes3D  # gráficos 3D\n",
    "from scipy import optimize  # função minimize\n",
    "\n",
    "import numpy as np\n",
    "import matplotlib.pyplot as plt\n",
    "%matplotlib inline"
   ]
  },
  {
   "cell_type": "markdown",
   "metadata": {},
   "source": [
    "## 4.2 Definindo a função e os intervalos"
   ]
  },
  {
   "cell_type": "code",
   "execution_count": null,
   "metadata": {
    "collapsed": true
   },
   "outputs": [],
   "source": [
    "\"\"\"\n",
    "Definindo uma função f(x), inspirada na\n",
    "função \"six-hump camelback\".\n",
    "\n",
    "six-hump camelback:\n",
    "\n",
    "shc(x, y) = (4 - 2.1 * x ** 2 + (x ** 4/3)) * x **2 + \n",
    "xy + (4 * y ** 2 - 4) * y ** 2\n",
    "\n",
    "Mais funções para testar otimização em:\n",
    "http://www.zsd.ict.pwr.wroc.pl/files/docs/functions.pdf\n",
    "\"\"\"\n",
    "\n",
    "def f(x):\n",
    "    \"\"\"\n",
    "    Função inspirada na camelback. Requer X.\n",
    "    \"\"\"\n",
    "\n",
    "    y = (4 - 2.1 * x ** 2 + (x ** 4 / 3)) * x ** 2 + x\n",
    "    return y"
   ]
  },
  {
   "cell_type": "code",
   "execution_count": null,
   "metadata": {
    "collapsed": false
   },
   "outputs": [],
   "source": [
    "# Definindo o eixo X e dando uma olhada em f(x).\n",
    "x = np.linspace(-2, 2)\n",
    "\n",
    "plt.figure(figsize=(14,6))\n",
    "plot1 = plt.plot(x, f(x))"
   ]
  },
  {
   "cell_type": "markdown",
   "metadata": {},
   "source": [
    "## 4.3 Função scipy.optimize.minimize"
   ]
  },
  {
   "cell_type": "code",
   "execution_count": null,
   "metadata": {
    "collapsed": false
   },
   "outputs": [],
   "source": [
    "\"\"\"\n",
    "Para minimizar (encontrar o ponto mínimo da função), \n",
    "usaremos a função scipy.optimize.minimize.\n",
    "\n",
    "Ela suporta vários métodos para minimização. Há uma\n",
    "lista completa na documentação do scipy:\n",
    "http://docs.scipy.org/doc/scipy-0.16.0/reference/generated/scipy.optimize.minimize.html\n",
    "\n",
    "O método padrão é um entre esses três: BFGS, L-BFGS-B e\n",
    "SLSQP, dependendo das restrições ou bordas.\n",
    "\"\"\"\n",
    "\n",
    "x0 = 0.5  # x0 é o \"chute\" inicial. \n",
    "res = optimize.minimize(f, x0, method='Nelder-Mead')  # Método simplex\n",
    "res  # mensagens da otimização."
   ]
  },
  {
   "cell_type": "code",
   "execution_count": null,
   "metadata": {
    "collapsed": false
   },
   "outputs": [],
   "source": [
    "# Vendo os valores de x e f(x) mínimo.\n",
    "\n",
    "print('x mínimo: ', res.x)\n",
    "print('f(x) mínimo: ', res.fun)  # ou f(res.x)"
   ]
  },
  {
   "cell_type": "code",
   "execution_count": null,
   "metadata": {
    "collapsed": false
   },
   "outputs": [],
   "source": [
    "# Plotando o ponto minimizado na função inicial:\n",
    "\n",
    "plt.figure(figsize=(14,6))\n",
    "plot2 = plt.plot(x, f(x), label='f(x)')\n",
    "plot2 = plt.plot(res.x, res.fun, 'ro', label='mín(f(x))')\n",
    "leg = plt.legend()"
   ]
  },
  {
   "cell_type": "markdown",
   "metadata": {},
   "source": [
    "## 4.4 Funções tridimensionais"
   ]
  },
  {
   "cell_type": "code",
   "execution_count": null,
   "metadata": {
    "collapsed": true
   },
   "outputs": [],
   "source": [
    "# eixos x e Y.\n",
    "x = np.linspace(-2, 2)\n",
    "y = np.linspace(-1, 1)\n",
    "\n",
    "# grades de x e y.\n",
    "X, Y = np.meshgrid(x, y)\n",
    "\n",
    "# optimize.minimize não permite duas variáveis; sempre espera uma lista!\n",
    "# Vamos colar as grades em uma variável só.\n",
    "T = np.empty([2, 50, 50])\n",
    "T[0] = X\n",
    "T[1] = Y"
   ]
  },
  {
   "cell_type": "code",
   "execution_count": null,
   "metadata": {
    "collapsed": false
   },
   "outputs": [],
   "source": [
    "def shc(t):\n",
    "    \"\"\"\n",
    "    A própria six-hump camelback. Requer t com duas colunas\n",
    "    (representando x e y).\n",
    "    \"\"\"\n",
    "\n",
    "    z = (4 - 2.1 * t[0] ** 2 + (t[0] ** 4/3)) * t[0] **2 + t[0] * t[1] + (4 * t[1] ** 2 - 4) * t[1] ** 2\n",
    "    return z\n",
    "\n",
    "Z = shc(T)"
   ]
  },
  {
   "cell_type": "code",
   "execution_count": null,
   "metadata": {
    "collapsed": false
   },
   "outputs": [],
   "source": [
    "# Dando uma olhada na função\n",
    "\n",
    "fig = plt.figure(figsize=(14,6))\n",
    "ax = Axes3D(fig)\n",
    "plot3 = ax.plot_surface(T[0], T[1], Z, rstride=1, cstride=1, cmap=cm.spectral)"
   ]
  },
  {
   "cell_type": "code",
   "execution_count": null,
   "metadata": {
    "collapsed": false
   },
   "outputs": [],
   "source": [
    "t0 = [0.5, 0.5]  # chute inicial com duas coordenadas.\n",
    "res = optimize.minimize(shc, t0, method='Nelder-Mead')\n",
    "res  # repare que res.x tem 2 pontos!"
   ]
  },
  {
   "cell_type": "code",
   "execution_count": null,
   "metadata": {
    "collapsed": false
   },
   "outputs": [],
   "source": [
    "fig = plt.figure(figsize=(14,6))\n",
    "ax = Axes3D(fig)\n",
    "plot3 = ax.plot_surface(T[0], T[1], Z, rstride=1, cstride=1, cmap=cm.spectral)\n",
    "plot3 = ax.plot([res.x[0]], [res.x[1]], [res.fun], 'ro', markersize=10)"
   ]
  },
  {
   "cell_type": "markdown",
   "metadata": {},
   "source": [
    "# Fim da Parte 4."
   ]
  },
  {
   "cell_type": "code",
   "execution_count": null,
   "metadata": {
    "collapsed": true
   },
   "outputs": [],
   "source": []
  }
 ],
 "metadata": {
  "kernelspec": {
   "display_name": "Python 3",
   "language": "python",
   "name": "python3"
  },
  "language_info": {
   "codemirror_mode": {
    "name": "ipython",
    "version": 3
   },
   "file_extension": ".py",
   "mimetype": "text/x-python",
   "name": "python",
   "nbconvert_exporter": "python",
   "pygments_lexer": "ipython3",
   "version": "3.4.3"
  }
 },
 "nbformat": 4,
 "nbformat_minor": 0
}
